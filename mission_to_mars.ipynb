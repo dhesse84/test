{
 "cells": [
  {
   "cell_type": "code",
   "execution_count": 1,
   "metadata": {},
   "outputs": [],
   "source": [
    "import pandas as pd\n",
    "\n",
    "import urllib.request\n",
    "from splinter import Browser\n",
    "from bs4 import BeautifulSoup as bs\n",
    "import time"
   ]
  },
  {
   "cell_type": "markdown",
   "metadata": {
    "collapsed": true
   },
   "source": [
    "# Scrape everything\n"
   ]
  },
  {
   "cell_type": "code",
   "execution_count": 2,
   "metadata": {},
   "outputs": [],
   "source": [
    "# this dictionary will hold everything we pull from all the sites\n",
    "scraped_data = {}"
   ]
  },
  {
   "cell_type": "code",
   "execution_count": 7,
   "metadata": {},
   "outputs": [],
   "source": [
    "# site 1 -\n",
    "news_url = \"https://mars.nasa.gov/news/?page=0&per_page=40&order=publish_date+desc%2Ccreated_at+desc&search=&category=19%2C165%2C184%2C204&blank_scope=Latest\"\n",
    "\n",
    "# use [splinter &] beautiful soup to parse the url above\n",
    "executable_path = {'executable_path': 'chromedriver.exe'}\n",
    "browser = Browser('chrome', **executable_path, headless=False)\n",
    "\n",
    "browser.visit(news_url)\n",
    "time.sleep(1)\n",
    "\n",
    "# Scrape page into Soup\n",
    "html = browser.html\n",
    "soup = bs(html, \"html.parser\")"
   ]
  },
  {
   "cell_type": "code",
   "execution_count": 15,
   "metadata": {},
   "outputs": [],
   "source": [
    "# use bs to find() [divs] and filter on the class_='content_tile'\n",
    "found_titles = soup.find_all('div',class_='content_title')\n",
    "\n",
    "news_title = found_titles[0].text\n",
    "scraped_data['news_title'] = news_title\n",
    "\n",
    "# use bs to find() the example_title_div and filter on the class_='article_teaser_body'\n",
    "found_teasers = soup.find_all('div',class_='article_teaser_body')\n",
    "\n",
    "news_p = found_teasers[0].text\n",
    "scraped_data['news_p'] = news_p"
   ]
  },
  {
   "cell_type": "code",
   "execution_count": 71,
   "metadata": {},
   "outputs": [],
   "source": [
    "# site 2 - https://www.jpl.nasa.gov/spaceimages/?search=&category=Mars\n",
    "jpl_url = 'https://www.jpl.nasa.gov/spaceimages/?search=&category=Mars'\n",
    "\n",
    "# use splinter to connect to the url and navigate, then use bs4 to repeat what you did in site 1\n",
    "executable_path = {'executable_path': 'chromedriver.exe'}\n",
    "browser = Browser('chrome', **executable_path, headless=False)\n",
    "\n",
    "browser.visit(jpl_url)\n",
    "time.sleep(1)\n",
    "\n",
    "html = browser.html\n",
    "soup = bs(html, \"html.parser\")\n",
    "\n",
    "#get redirect link from featured pic\n",
    "found_box = soup.find_all('a',class_='fancybox')\n",
    "newurl = 'https://www.jpl.nasa.gov/' + found_box[0]['data-link']\n",
    "\n",
    "browser.visit(newurl)\n",
    "time.sleep(1)\n",
    "\n",
    "html = browser.html\n",
    "soup = bs(html, \"html.parser\")\n",
    "\n",
    "#get large image url from article page\n",
    "found_pic = soup.find_all('figure',class_='lede')[0].find('a')['href']\n",
    "featured_image_url = 'https://www.jpl.nasa.gov' + found_pic\n",
    "scraped_data['featured_image_url'] = featured_image_url\n",
    "\n",
    "# Example:\n",
    "#featured_image_url = 'https://www.jpl.nasa.gov/spaceimages/images/largesize/PIA16225_hires.jpg'\n",
    "#scraped_data['featured_image_url'] = featured_image_url\n"
   ]
  },
  {
   "cell_type": "code",
   "execution_count": 84,
   "metadata": {},
   "outputs": [],
   "source": [
    "# site 3 - https://twitter.com/marswxreport?lang=en\n",
    "twitter_url = 'https://twitter.com/marswxreport?lang=en'\n",
    "\n",
    "# grab the latest tweet and be careful its a weather tweet\n",
    "executable_path = {'executable_path': 'chromedriver.exe'}\n",
    "browser = Browser('chrome', **executable_path, headless=False)\n",
    "\n",
    "browser.visit(twitter_url)\n",
    "time.sleep(1)\n",
    "\n",
    "html = browser.html\n",
    "soup = bs(html, \"html.parser\")\n",
    "\n",
    "found_tweet = soup.find(class_='js-tweet-text-container').find('p').text\n",
    "\n",
    "# Example:\n",
    "scraped_data['mars_weather'] = found_tweet #this may not go inside the dictionary as i thought"
   ]
  },
  {
   "cell_type": "code",
   "execution_count": 11,
   "metadata": {},
   "outputs": [],
   "source": [
    "# site 4 - \n",
    "facts_url = 'https://space-facts.com/mars/'\n",
    "\n",
    "# use pandas to parse the table\n",
    "\n",
    "facts_df = pd.read_html(facts_url)[0]\n",
    "\n",
    "# convert facts_df to a html string and add to dictionary.\n",
    "facts = facts_df.to_html()\n",
    "scraped_data['facts'] = facts"
   ]
  },
  {
   "cell_type": "code",
   "execution_count": 6,
   "metadata": {},
   "outputs": [],
   "source": [
    "# site 5  https://astrogeology.usgs.gov/search/results?q=hemisphere+enhanced&k1=target&v1=Mars\n",
    "\n",
    "hemi_url = 'https://astrogeology.usgs.gov/search/results?q=hemisphere+enhanced&k1=target&v1=Mars'\n",
    "\n",
    "executable_path = {'executable_path': 'chromedriver.exe'}\n",
    "browser = Browser('chrome', **executable_path, headless=False)\n",
    "\n",
    "browser.visit(hemi_url)\n",
    "time.sleep(1)\n",
    "\n",
    "html = browser.html\n",
    "soup = bs(html, \"html.parser\")\n",
    "\n",
    "found_items = soup.find_all(class_='item')\n",
    "\n",
    "#build list of titles and links\n",
    "found_links = []\n",
    "found_titles = []\n",
    "\n",
    "a = 0\n",
    "for i in found_items:\n",
    "    add_title = found_items[a].find('h3').text\n",
    "    add_link = 'https://astrogeology.usgs.gov' + found_items[a].find(class_='itemLink product-item')['href']\n",
    "    found_links.append(add_link)\n",
    "    found_titles.append(add_title)\n",
    "    a += 1\n",
    "\n",
    "executable_path = {'executable_path': 'chromedriver.exe'}\n",
    "browser = Browser('chrome', **executable_path, headless=False)\n",
    "\n",
    "#visit links to get imgs\n",
    "found_imgs = []\n",
    "\n",
    "a = 0\n",
    "for i in found_links:\n",
    "    browser.visit(found_links[a])\n",
    "    a +=1\n",
    "    time.sleep(1)\n",
    "    html = browser.html\n",
    "    soup = bs(html, \"html.parser\")\n",
    "    #get img url\n",
    "    add_img = soup.find(class_='downloads').find('a')['href']\n",
    "    found_imgs.append(add_img)\n",
    "    \n",
    "#build list of dictionaries\n",
    "hemisphere_image_urls = []\n",
    "\n",
    "a = 0\n",
    "for i in found_titles:\n",
    "    temp_d = {f'title{a}': found_titles[a], f'img_url{a}': found_imgs[a]}\n",
    "    hemisphere_image_urls.append(temp_d)\n",
    "    a += 1\n",
    "    \n",
    "scraped_data['hemispheres'] = hemisphere_image_urls\n",
    "\n",
    "# Example:\n",
    "#hemisphere_image_urls = [\n",
    "#    {\"title\": \"Valles Marineris Hemisphere\", \"img_url\": \"...\"},\n",
    "#    {\"title\": \"Cerberus Hemisphere\", \"img_url\": \"...\"},\n",
    "#    {\"title\": \"Schiaparelli Hemisphere\", \"img_url\": \"...\"},\n",
    "#    {\"title\": \"Syrtis Major Hemisphere\", \"img_url\": \"...\"},\n",
    "#]"
   ]
  },
  {
   "cell_type": "code",
   "execution_count": 7,
   "metadata": {},
   "outputs": [
    {
     "data": {
      "text/plain": [
       "[{'title0': 'Cerberus Hemisphere Enhanced',\n",
       "  'img_url0': 'http://astropedia.astrogeology.usgs.gov/download/Mars/Viking/cerberus_enhanced.tif/full.jpg'},\n",
       " {'title1': 'Schiaparelli Hemisphere Enhanced',\n",
       "  'img_url1': 'http://astropedia.astrogeology.usgs.gov/download/Mars/Viking/schiaparelli_enhanced.tif/full.jpg'},\n",
       " {'title2': 'Syrtis Major Hemisphere Enhanced',\n",
       "  'img_url2': 'http://astropedia.astrogeology.usgs.gov/download/Mars/Viking/syrtis_major_enhanced.tif/full.jpg'},\n",
       " {'title3': 'Valles Marineris Hemisphere Enhanced',\n",
       "  'img_url3': 'http://astropedia.astrogeology.usgs.gov/download/Mars/Viking/valles_marineris_enhanced.tif/full.jpg'}]"
      ]
     },
     "execution_count": 7,
     "metadata": {},
     "output_type": "execute_result"
    }
   ],
   "source": [
    "scraped_data['hemispheres']\n",
    "# File-> download as python into a new module called scrape_mars.py"
   ]
  },
  {
   "cell_type": "code",
   "execution_count": null,
   "metadata": {},
   "outputs": [],
   "source": [
    "# use day 3 09-Ins_Scrape_And_Render/app.py as a blue print on how to finish the homework.\n",
    "\n",
    "# replace the contents of def index() and def scraper() appropriately.\n",
    "\n",
    "# change the index.html to render the site with all the data."
   ]
  }
 ],
 "metadata": {
  "kernelspec": {
   "display_name": "Python 3",
   "language": "python",
   "name": "python3"
  },
  "language_info": {
   "codemirror_mode": {
    "name": "ipython",
    "version": 3
   },
   "file_extension": ".py",
   "mimetype": "text/x-python",
   "name": "python",
   "nbconvert_exporter": "python",
   "pygments_lexer": "ipython3",
   "version": "3.6.9"
  }
 },
 "nbformat": 4,
 "nbformat_minor": 1
}
